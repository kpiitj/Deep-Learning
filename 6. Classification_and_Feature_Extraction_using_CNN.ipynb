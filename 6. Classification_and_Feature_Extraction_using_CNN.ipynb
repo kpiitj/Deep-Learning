{
  "cells": [
    {
      "cell_type": "markdown",
      "metadata": {
        "id": "fKAoMGFql0fD"
      },
      "source": [
        "<h1 style=\"color:#6C3483\" align=\"center\">Transfer Learning: Fine Tuning and Feature Extraction</h1>"
      ]
    },
    {
      "cell_type": "markdown",
      "metadata": {
        "id": "Lf4OHWWml0fF"
      },
      "source": [
        "# Convolutional Neural Network (CNN)"
      ]
    },
    {
      "cell_type": "code",
      "execution_count": null,
      "metadata": {
        "collapsed": true,
        "id": "w6EH4jLvl0fH"
      },
      "outputs": [],
      "source": [
        "# Pytorch libraries\n",
        "import torch\n",
        "import torchvision\n",
        "import torchvision.transforms as transforms\n",
        "\n",
        "# For displaying images and numpy operations\n",
        "import matplotlib.pyplot as plt\n",
        "import numpy as np\n",
        "\n",
        "# For CNN Purpose\n",
        "import torch.nn as nn\n",
        "import torch.nn.functional as F\n",
        "\n",
        "# Loss function and optimizer\n",
        "import torch.optim as optim"
      ]
    },
    {
      "cell_type": "markdown",
      "metadata": {
        "id": "j-nIrUPwl0fI"
      },
      "source": [
        "###### Initializing Data Loader"
      ]
    },
    {
      "cell_type": "markdown",
      "metadata": {
        "id": "HdlFUkX6l0fI"
      },
      "source": [
        "The output of torchvision datasets are PILImage images of range [0, 1]. We transform them to Tensors of normalized range [-1, 1]"
      ]
    },
    {
      "cell_type": "code",
      "execution_count": null,
      "metadata": {
        "id": "IPEkD4C8l0fJ",
        "outputId": "fb034df3-82d1-4377-c1b2-a2861e422e3c",
        "colab": {
          "base_uri": "https://localhost:8080/"
        }
      },
      "outputs": [
        {
          "output_type": "stream",
          "name": "stdout",
          "text": [
            "Downloading https://www.cs.toronto.edu/~kriz/cifar-10-python.tar.gz to ./data/cifar-10-python.tar.gz\n"
          ]
        },
        {
          "output_type": "stream",
          "name": "stderr",
          "text": [
            "100%|██████████| 170498071/170498071 [00:03<00:00, 54299579.75it/s]\n"
          ]
        },
        {
          "output_type": "stream",
          "name": "stdout",
          "text": [
            "Extracting ./data/cifar-10-python.tar.gz to ./data\n",
            "Files already downloaded and verified\n"
          ]
        }
      ],
      "source": [
        "transform = transforms.Compose(\n",
        "    [transforms.ToTensor(),\n",
        "     transforms.Normalize((0.5, 0.5, 0.5), (0.5, 0.5, 0.5))])\n",
        "\n",
        "trainset = torchvision.datasets.CIFAR10(root='./data', train=True,\n",
        "                                        download=True, transform=transform)\n",
        "trainloader = torch.utils.data.DataLoader(trainset, batch_size=4,\n",
        "                                          shuffle=True, num_workers=2)\n",
        "\n",
        "testset = torchvision.datasets.CIFAR10(root='./data', train=False,\n",
        "                                       download=True, transform=transform)\n",
        "testloader = torch.utils.data.DataLoader(testset, batch_size=4,\n",
        "                                         shuffle=False, num_workers=2)\n",
        "\n",
        "classes = ('plane', 'car', 'bird', 'cat',\n",
        "           'deer', 'dog', 'frog', 'horse', 'ship', 'truck')"
      ]
    },
    {
      "cell_type": "markdown",
      "metadata": {
        "id": "oNcDXx2Vl0fK"
      },
      "source": [
        "###### Functions to show an image"
      ]
    },
    {
      "cell_type": "code",
      "execution_count": null,
      "metadata": {
        "id": "HJSX3_Wsl0fK",
        "outputId": "2ca392b9-025a-401d-851c-aa517802f0fd",
        "colab": {
          "base_uri": "https://localhost:8080/",
          "height": 211
        }
      },
      "outputs": [
        {
          "output_type": "display_data",
          "data": {
            "text/plain": [
              "<Figure size 640x480 with 1 Axes>"
            ],
            "image/png": "[encoded data removed]"
          },
          "metadata": {}
        },
        {
          "output_type": "stream",
          "name": "stdout",
          "text": [
            " ship   cat  ship  ship\n"
          ]
        }
      ],
      "source": [
        "def imshow(img):\n",
        "    img = img / 2 + 0.5     # unnormalize\n",
        "    npimg = img.numpy()\n",
        "    plt.imshow(np.transpose(npimg, (1, 2, 0)))\n",
        "    plt.show()\n",
        "\n",
        "# get some random training images\n",
        "dataiter = iter(trainloader)\n",
        "images, labels = next(dataiter)\n",
        "# print(labels)\n",
        "\n",
        "# show images\n",
        "imshow(torchvision.utils.make_grid(images))\n",
        "# print labels\n",
        "print(' '.join('%5s' % classes[labels[j]] for j in range(4)))"
      ]
    },
    {
      "cell_type": "markdown",
      "metadata": {
        "id": "c_0MoTnql0fL"
      },
      "source": [
        "##### Define a Convolution Neural Network without Drop Out"
      ]
    },
    {
      "cell_type": "code",
      "execution_count": null,
      "metadata": {
        "collapsed": true,
        "id": "FPr7rthbl0fL"
      },
      "outputs": [],
      "source": [
        "class Net(nn.Module):\n",
        "    def __init__(self):\n",
        "        super(Net, self).__init__()\n",
        "        self.conv1 = nn.Conv2d(3, 6, 5)\n",
        "        self.relu1 = nn.ReLU()\n",
        "        self.pool1 = nn.MaxPool2d(2, 2)\n",
        "        self.conv2 = nn.Conv2d(6, 16, 5)\n",
        "        self.relu2 = nn.ReLU()\n",
        "        self.pool2 = nn.MaxPool2d(2, 2)\n",
        "        self.fc1 = nn.Linear(16 * 5 * 5, 120)\n",
        "        self.relu3 = nn.ReLU()\n",
        "        self.fc2 = nn.Linear(120, 84)\n",
        "        self.relu4 = nn.ReLU()\n",
        "        self.fc3 = nn.Linear(84, 10)\n",
        "\n",
        "    def forward(self, x):\n",
        "        x = self.conv1(x)\n",
        "        x = self.relu1(x)\n",
        "        x = self.pool1(x)\n",
        "        x = self.conv2(x)\n",
        "        x = self.relu2(x)\n",
        "        x = self.pool2(x)\n",
        "        x = x.view(-1, 16 * 5 * 5)\n",
        "        x = self.fc1(x)\n",
        "        x = self.relu3(x)\n",
        "        x = self.fc2(x)\n",
        "        x2 = self.relu4(x)\n",
        "        x2 = self.fc3(x2)\n",
        "        return (x2,x)\n",
        "\n",
        "net = Net()"
      ]
    },
    {
      "cell_type": "code",
      "execution_count": null,
      "metadata": {
        "id": "ibY5NLCpl0fL",
        "outputId": "67ffd88b-6387-4c8b-b33c-ef9cb53501d1",
        "colab": {
          "base_uri": "https://localhost:8080/"
        }
      },
      "outputs": [
        {
          "output_type": "stream",
          "name": "stdout",
          "text": [
            "Net(\n",
            "  (conv1): Conv2d(3, 6, kernel_size=(5, 5), stride=(1, 1))\n",
            "  (relu1): ReLU()\n",
            "  (pool1): MaxPool2d(kernel_size=2, stride=2, padding=0, dilation=1, ceil_mode=False)\n",
            "  (conv2): Conv2d(6, 16, kernel_size=(5, 5), stride=(1, 1))\n",
            "  (relu2): ReLU()\n",
            "  (pool2): MaxPool2d(kernel_size=2, stride=2, padding=0, dilation=1, ceil_mode=False)\n",
            "  (fc1): Linear(in_features=400, out_features=120, bias=True)\n",
            "  (relu3): ReLU()\n",
            "  (fc2): Linear(in_features=120, out_features=84, bias=True)\n",
            "  (relu4): ReLU()\n",
            "  (fc3): Linear(in_features=84, out_features=10, bias=True)\n",
            ")\n"
          ]
        }
      ],
      "source": [
        "print(net)"
      ]
    },
    {
      "cell_type": "code",
      "execution_count": null,
      "metadata": {
        "id": "6wYL-7fsl0fL",
        "outputId": "7e2c8209-87e6-4427-d9fd-6021a6aec77c",
        "colab": {
          "base_uri": "https://localhost:8080/"
        }
      },
      "outputs": [
        {
          "output_type": "stream",
          "name": "stdout",
          "text": [
            "True\n"
          ]
        }
      ],
      "source": [
        "# Using GPU, if available\n",
        "use_gpu = torch.cuda.is_available()\n",
        "print(use_gpu)\n",
        "\n",
        "if use_gpu:\n",
        "    net.cuda()"
      ]
    },
    {
      "cell_type": "markdown",
      "metadata": {
        "id": "q-yO2Bp5l0fL"
      },
      "source": [
        "##### Define Loss function and optimizer"
      ]
    },
    {
      "cell_type": "code",
      "execution_count": null,
      "metadata": {
        "collapsed": true,
        "id": "lZ6b6w-Tl0fM"
      },
      "outputs": [],
      "source": [
        "# Let’s use a Classification Cross-Entropy loss and SGD with momentum\n",
        "criterion = nn.CrossEntropyLoss()\n",
        "optimizer = optim.SGD(net.parameters(), lr=0.001, momentum=0.9)"
      ]
    },
    {
      "cell_type": "markdown",
      "metadata": {
        "id": "ZhTDXu4_l0fM"
      },
      "source": [
        "###### Train the network"
      ]
    },
    {
      "cell_type": "code",
      "execution_count": null,
      "metadata": {
        "id": "WWwQsyhOl0fN",
        "outputId": "a72d7242-fc96-4f2c-b25b-d8f496c10303",
        "colab": {
          "base_uri": "https://localhost:8080/"
        }
      },
      "outputs": [
        {
          "output_type": "stream",
          "name": "stdout",
          "text": [
            "[1,  2000] loss: 2.210\n",
            "[1,  4000] loss: 1.845\n",
            "[1,  6000] loss: 1.671\n",
            "[1,  8000] loss: 1.591\n",
            "[1, 10000] loss: 1.536\n",
            "[1, 12000] loss: 1.487\n",
            "Finished Training\n"
          ]
        }
      ],
      "source": [
        "# This is when things start to get interesting.\n",
        "# We simply have to loop over our data iterator, and feed the inputs to the network and optimize\n",
        "\n",
        "for epoch in range(1):  # loop over the dataset multiple times\n",
        "\n",
        "    running_loss = 0.0\n",
        "    for i, data in enumerate(trainloader, 0):\n",
        "        # get the inputs\n",
        "        inputs, labels = data\n",
        "\n",
        "        # wrap them in Variable\n",
        "        if use_gpu:\n",
        "            inputs, labels = inputs.cuda(), labels.cuda()\n",
        "        else:\n",
        "            inputs, labels = inputs, labels\n",
        "\n",
        "        # zero the parameter gradients\n",
        "        optimizer.zero_grad()\n",
        "\n",
        "        outputs, features = net(inputs)\n",
        "\n",
        "        # forward + backward + optimize\n",
        "        loss = criterion(outputs, labels)\n",
        "        loss.backward()\n",
        "        optimizer.step()\n",
        "\n",
        "        # print statistics\n",
        "        running_loss += loss.item()\n",
        "        if i % 2000 == 1999:    # print every 2000 mini-batches\n",
        "            print('[%d, %5d] loss: %.3f' %\n",
        "                  (epoch + 1, i + 1, running_loss / 2000))\n",
        "            running_loss = 0.0\n",
        "\n",
        "print('Finished Training')"
      ]
    },
    {
      "cell_type": "code",
      "execution_count": null,
      "metadata": {
        "collapsed": true,
        "id": "eKViCFvJl0fN"
      },
      "outputs": [],
      "source": [
        "# Saving the model\n",
        "torch.save(net.state_dict(), 'cifar10Model.pth')"
      ]
    },
    {
      "cell_type": "code",
      "execution_count": null,
      "metadata": {
        "collapsed": true,
        "id": "nR38-WBql0fN",
        "colab": {
          "base_uri": "https://localhost:8080/"
        },
        "outputId": "f3ae26cf-abbb-46db-8e3e-f7dec7848686"
      },
      "outputs": [
        {
          "output_type": "execute_result",
          "data": {
            "text/plain": [
              "<All keys matched successfully>"
            ]
          },
          "metadata": {},
          "execution_count": 13
        }
      ],
      "source": [
        "# Loading the model\n",
        "net.load_state_dict(torch.load('cifar10Model.pth'))"
      ]
    },
    {
      "cell_type": "code",
      "execution_count": null,
      "metadata": {
        "id": "LYMxoPvEl0fN",
        "outputId": "18c6d3ba-4b9f-41be-af14-620e8ef81327",
        "colab": {
          "base_uri": "https://localhost:8080/"
        }
      },
      "outputs": [
        {
          "output_type": "execute_result",
          "data": {
            "text/plain": [
              "Net(\n",
              "  (conv1): Conv2d(3, 6, kernel_size=(5, 5), stride=(1, 1))\n",
              "  (relu1): ReLU()\n",
              "  (pool1): MaxPool2d(kernel_size=2, stride=2, padding=0, dilation=1, ceil_mode=False)\n",
              "  (conv2): Conv2d(6, 16, kernel_size=(5, 5), stride=(1, 1))\n",
              "  (relu2): ReLU()\n",
              "  (pool2): MaxPool2d(kernel_size=2, stride=2, padding=0, dilation=1, ceil_mode=False)\n",
              "  (fc1): Linear(in_features=400, out_features=120, bias=True)\n",
              "  (relu3): ReLU()\n",
              "  (fc2): Linear(in_features=120, out_features=84, bias=True)\n",
              "  (relu4): ReLU()\n",
              "  (fc3): Linear(in_features=84, out_features=10, bias=True)\n",
              ")"
            ]
          },
          "metadata": {},
          "execution_count": 14
        }
      ],
      "source": [
        "# Set model to evaluation mode\n",
        "net.eval()"
      ]
    },
    {
      "cell_type": "markdown",
      "metadata": {
        "id": "gOaq0S48l0fO"
      },
      "source": [
        "# Feature Extraction and Classification using CNN"
      ]
    },
    {
      "cell_type": "markdown",
      "metadata": {
        "id": "44_AB-kKl0fO"
      },
      "source": [
        "We have trained the network for 2 passes over the training dataset. But we need to check if the network has learnt anything at all.\n",
        "\n",
        "We will check this by predicting the class label that the neural network outputs, and checking it against the ground-truth. If the prediction is correct, we add the sample to the list of correct predictions."
      ]
    },
    {
      "cell_type": "code",
      "execution_count": null,
      "metadata": {
        "collapsed": true,
        "id": "beBLGsJFl0fO"
      },
      "outputs": [],
      "source": [
        "dataiter = iter(testloader)\n",
        "images, labels = next(dataiter)\n",
        "images, labels = images.cuda(), labels.cuda()"
      ]
    },
    {
      "cell_type": "code",
      "source": [],
      "metadata": {
        "id": "vhlO6r103EZq"
      },
      "execution_count": null,
      "outputs": []
    },
    {
      "cell_type": "markdown",
      "metadata": {
        "id": "U3FF9htgl0fP"
      },
      "source": [
        "Okay, first step. Let us display an image from the test set to get familiar."
      ]
    },
    {
      "cell_type": "code",
      "execution_count": null,
      "metadata": {
        "id": "RB6fxyE4l0fP",
        "outputId": "b47c4f48-b2e5-42f5-d865-1319ac01b1ee",
        "colab": {
          "base_uri": "https://localhost:8080/",
          "height": 211
        }
      },
      "outputs": [
        {
          "output_type": "display_data",
          "data": {
            "text/plain": [
              "<Figure size 640x480 with 1 Axes>"
            ],
            "image/png": "[encoded data removed]"
          },
          "metadata": {}
        },
        {
          "output_type": "stream",
          "name": "stdout",
          "text": [
            "GroundTruth:    dog horse  bird   car\n"
          ]
        }
      ],
      "source": [
        "# print images\n",
        "imshow(torchvision.utils.make_grid(images.cpu()))\n",
        "print('GroundTruth: ', ' '.join('%5s' % classes[labels[j]] for j in range(4)))"
      ]
    },
    {
      "cell_type": "markdown",
      "metadata": {
        "id": "2KAVwYpUl0fP"
      },
      "source": [
        "Okay, now let us see what the neural network thinks these examples above are:"
      ]
    },
    {
      "cell_type": "code",
      "execution_count": null,
      "metadata": {
        "collapsed": true,
        "id": "nR8IFFc9l0fP"
      },
      "outputs": [],
      "source": [
        "images = images.to('cuda')\n",
        "outputs,_ = net(images)\n",
        "# outputs = F.softmax(outputs)\n",
        "#outputs = outputs.cpu()"
      ]
    },
    {
      "cell_type": "markdown",
      "metadata": {
        "id": "hPE_Hb0sl0fP"
      },
      "source": [
        "The outputs are energies for the 10 classes. Higher the energy for a class, the more the network thinks that the image is of the particular class. So, let’s get the index of the highest energy:"
      ]
    },
    {
      "cell_type": "code",
      "execution_count": null,
      "metadata": {
        "id": "9qiZxI_Dl0fQ",
        "outputId": "fc66759d-53d3-47a4-ec15-f717dc6fcef0",
        "colab": {
          "base_uri": "https://localhost:8080/"
        }
      },
      "outputs": [
        {
          "output_type": "stream",
          "name": "stdout",
          "text": [
            "Predicted:   ship plane  ship  ship\n"
          ]
        }
      ],
      "source": [
        "_, predicted = torch.max(outputs.data, 1)\n",
        "predicted = predicted.cpu().numpy()\n",
        "className = list(classes)\n",
        "print('Predicted: ', ' '.join('%5s' % className[predicted[j]]\n",
        "                              for j in range(4)))"
      ]
    },
    {
      "cell_type": "markdown",
      "metadata": {
        "id": "YDKRxLl_l0fQ"
      },
      "source": [
        "The results seem pretty good with only one epoch.\n",
        "\n",
        "Let us look at how the network performs on the whole dataset."
      ]
    },
    {
      "cell_type": "code",
      "execution_count": null,
      "metadata": {
        "id": "8wz5glIhl0fQ",
        "outputId": "92e5a55a-6f6d-4038-b858-b3fb185bc963",
        "colab": {
          "base_uri": "https://localhost:8080/"
        }
      },
      "outputs": [
        {
          "output_type": "stream",
          "name": "stdout",
          "text": [
            "Accuracy of the network on the 10000 test images: 48 %\n"
          ]
        }
      ],
      "source": [
        "correct = 0\n",
        "total = 0\n",
        "for data in testloader:\n",
        "    images, labels = data\n",
        "    images, labels = images.cuda(), labels.cuda()\n",
        "    outputs,_ = net(images)\n",
        "#     outputs = F.softmax(outputs)\n",
        "    outputs = outputs.cpu()\n",
        "    _, predicted = torch.max(outputs.data, 1)\n",
        "    total += labels.size(0)\n",
        "    correct += (predicted == labels.cpu()).sum()\n",
        "\n",
        "print('Accuracy of the network on the 10000 test images: %d %%' % (\n",
        "    100 * correct / total))"
      ]
    },
    {
      "cell_type": "code",
      "execution_count": null,
      "metadata": {
        "id": "w9qxuikDl0fR",
        "outputId": "31bcd2ac-2438-40e3-eb71-4e190fbadf88",
        "colab": {
          "base_uri": "https://localhost:8080/"
        }
      },
      "outputs": [
        {
          "output_type": "stream",
          "name": "stdout",
          "text": [
            "Accuracy of plane : 62 %\n",
            "Accuracy of   car : 52 %\n",
            "Accuracy of  bird : 52 %\n",
            "Accuracy of   cat : 19 %\n",
            "Accuracy of  deer : 23 %\n",
            "Accuracy of   dog : 29 %\n",
            "Accuracy of  frog : 75 %\n",
            "Accuracy of horse : 61 %\n",
            "Accuracy of  ship : 47 %\n",
            "Accuracy of truck : 63 %\n"
          ]
        }
      ],
      "source": [
        "class_correct = list(0. for i in range(10))\n",
        "class_total = list(0. for i in range(10))\n",
        "for data in testloader:\n",
        "    images, labels = data\n",
        "    images, labels = images.cuda(), labels.cuda()\n",
        "    outputs,_ = net(images)\n",
        "#     outputs = F.softmax(outputs)\n",
        "    outputs = outputs.cpu()\n",
        "    _, predicted = torch.max(outputs.data, 1)\n",
        "    c = (predicted == labels.cpu()).squeeze()\n",
        "    for i in range(4):\n",
        "        label = labels[i]\n",
        "        class_correct[label] += c[i]\n",
        "        class_total[label] += 1\n",
        "\n",
        "\n",
        "for i in range(10):\n",
        "    print('Accuracy of %5s : %2d %%' % (\n",
        "        classes[i], 100 * class_correct[i] / class_total[i]))"
      ]
    },
    {
      "cell_type": "markdown",
      "metadata": {
        "id": "mkqqvSngl0fR"
      },
      "source": [
        "# Feature Extraction using CNN"
      ]
    },
    {
      "cell_type": "markdown",
      "metadata": {
        "id": "bcWzNuq-l0fR"
      },
      "source": [
        "<b>Train Set of CIFAR-10 Dataset</b>"
      ]
    },
    {
      "cell_type": "code",
      "execution_count": null,
      "metadata": {
        "id": "4YjGyrgYl0fR",
        "outputId": "6392a0e3-98f3-400c-bec2-b10215c5d0bd",
        "colab": {
          "base_uri": "https://localhost:8080/"
        }
      },
      "outputs": [
        {
          "output_type": "stream",
          "name": "stdout",
          "text": [
            "Finished Feature Extraction for Train Set\n"
          ]
        }
      ],
      "source": [
        "for i, data in enumerate(trainloader, 0):\n",
        "    # get the inputs\n",
        "    inputs, labels = data\n",
        "\n",
        "    # wrap them in Variable\n",
        "    if use_gpu:\n",
        "        inputs, labels = inputs.cuda(), labels.cuda()\n",
        "    else:\n",
        "        inputs, labels = inputs, labels\n",
        "\n",
        "    # extracting features\n",
        "    _, features = net(inputs)\n",
        "\n",
        "    if use_gpu:\n",
        "        features = features.cpu()\n",
        "        labels = labels.cpu()\n",
        "    feature = features.data.numpy()\n",
        "    label = labels.data.numpy()\n",
        "    label = np.reshape(label,(labels.size(0),1))\n",
        "\n",
        "    if i==0:\n",
        "        featureMatrix = np.copy(feature)\n",
        "        labelVector = np.copy(label)\n",
        "    else:\n",
        "        featureMatrix = np.vstack([featureMatrix,feature])\n",
        "        labelVector = np.vstack([labelVector,label])\n",
        "\n",
        "print('Finished Feature Extraction for Train Set')"
      ]
    },
    {
      "cell_type": "markdown",
      "metadata": {
        "id": "wcqPUA0rl0fS"
      },
      "source": [
        "<b>Test Set of CIFAR-10 Dataset</b>"
      ]
    },
    {
      "cell_type": "code",
      "execution_count": null,
      "metadata": {
        "scrolled": true,
        "id": "FmCXzSa8l0fS",
        "outputId": "0aac3208-cc53-4927-f871-1bb82f90c633",
        "colab": {
          "base_uri": "https://localhost:8080/"
        }
      },
      "outputs": [
        {
          "output_type": "stream",
          "name": "stdout",
          "text": [
            "Finished Feature Extraction for Test Set\n"
          ]
        }
      ],
      "source": [
        "for i, data in enumerate(testloader, 0):\n",
        "    # get the inputs\n",
        "    inputs, labels = data\n",
        "\n",
        "    # wrap them in Variable\n",
        "    if use_gpu:\n",
        "        inputs, labels = inputs.cuda(), labels.cuda()\n",
        "    else:\n",
        "        inputs, labels = inputs, labels\n",
        "\n",
        "    # extracting features\n",
        "    _, features = net(inputs)\n",
        "\n",
        "    if use_gpu:\n",
        "        features = features.cpu()\n",
        "        labels = labels.cpu()\n",
        "    feature = features.data.numpy()\n",
        "    label = labels.data.numpy()\n",
        "    label = np.reshape(label,(labels.size(0),1))\n",
        "\n",
        "    if i==0:\n",
        "        featureMatrixTest = np.copy(feature)\n",
        "        labelVectorTest = np.copy(label)\n",
        "    else:\n",
        "        featureMatrixTest = np.vstack([featureMatrixTest,feature])\n",
        "        labelVectorTest = np.vstack([labelVectorTest,label])\n",
        "\n",
        "print('Finished Feature Extraction for Test Set')"
      ]
    },
    {
      "cell_type": "markdown",
      "metadata": {
        "id": "S-Z4dRGDl0fS"
      },
      "source": [
        "# Classification Using Random Forest"
      ]
    },
    {
      "cell_type": "code",
      "execution_count": null,
      "metadata": {
        "collapsed": true,
        "id": "RjFh8iuCl0fS"
      },
      "outputs": [],
      "source": [
        "# Import Packages for Random Forest\n",
        "from sklearn.ensemble import RandomForestClassifier\n",
        "from sklearn.datasets import make_classification\n",
        "import joblib\n",
        "\n",
        "from sklearn.ensemble import RandomForestClassifier"
      ]
    },
    {
      "cell_type": "code",
      "execution_count": null,
      "metadata": {
        "id": "IaC0WO0_l0fT",
        "outputId": "80971b2c-c429-477c-e675-a05143474aaf",
        "colab": {
          "base_uri": "https://localhost:8080/"
        }
      },
      "outputs": [
        {
          "output_type": "stream",
          "name": "stdout",
          "text": [
            "{'bootstrap': True, 'ccp_alpha': 0.0, 'class_weight': None, 'criterion': 'gini', 'max_depth': None, 'max_features': 'sqrt', 'max_leaf_nodes': None, 'max_samples': None, 'min_impurity_decrease': 0.0, 'min_samples_leaf': 1, 'min_samples_split': 2, 'min_weight_fraction_leaf': 0.0, 'n_estimators': 100, 'n_jobs': None, 'oob_score': False, 'random_state': None, 'verbose': 0, 'warm_start': False}\n"
          ]
        }
      ],
      "source": [
        "# Defining Random Forest Claasifier\n",
        "clf = RandomForestClassifier(n_estimators = 100)\n",
        "print(clf.get_params())"
      ]
    },
    {
      "cell_type": "code",
      "execution_count": null,
      "metadata": {
        "id": "oFWzRHUrl0fT",
        "outputId": "f6492ca2-fdde-4efb-9266-e342b490b29c",
        "colab": {
          "base_uri": "https://localhost:8080/",
          "height": 74
        }
      },
      "outputs": [
        {
          "output_type": "execute_result",
          "data": {
            "text/plain": [
              "RandomForestClassifier()"
            ],
            "text/html": [
              "<style>#sk-container-id-1 {color: black;background-color: white;}#sk-container-id-1 pre{padding: 0;}#sk-container-id-1 div.sk-toggleable {background-color: white;}#sk-container-id-1 label.sk-toggleable__label {cursor: pointer;display: block;width: 100%;margin-bottom: 0;padding: 0.3em;box-sizing: border-box;text-align: center;}#sk-container-id-1 label.sk-toggleable__label-arrow:before {content: \"▸\";float: left;margin-right: 0.25em;color: #696969;}#sk-container-id-1 label.sk-toggleable__label-arrow:hover:before {color: black;}#sk-container-id-1 div.sk-estimator:hover label.sk-toggleable__label-arrow:before {color: black;}#sk-container-id-1 div.sk-toggleable__content {max-height: 0;max-width: 0;overflow: hidden;text-align: left;background-color: #f0f8ff;}#sk-container-id-1 div.sk-toggleable__content pre {margin: 0.2em;color: black;border-radius: 0.25em;background-color: #f0f8ff;}#sk-container-id-1 input.sk-toggleable__control:checked~div.sk-toggleable__content {max-height: 200px;max-width: 100%;overflow: auto;}#sk-container-id-1 input.sk-toggleable__control:checked~label.sk-toggleable__label-arrow:before {content: \"▾\";}#sk-container-id-1 div.sk-estimator input.sk-toggleable__control:checked~label.sk-toggleable__label {background-color: #d4ebff;}#sk-container-id-1 div.sk-label input.sk-toggleable__control:checked~label.sk-toggleable__label {background-color: #d4ebff;}#sk-container-id-1 input.sk-hidden--visually {border: 0;clip: rect(1px 1px 1px 1px);clip: rect(1px, 1px, 1px, 1px);height: 1px;margin: -1px;overflow: hidden;padding: 0;position: absolute;width: 1px;}#sk-container-id-1 div.sk-estimator {font-family: monospace;background-color: #f0f8ff;border: 1px dotted black;border-radius: 0.25em;box-sizing: border-box;margin-bottom: 0.5em;}#sk-container-id-1 div.sk-estimator:hover {background-color: #d4ebff;}#sk-container-id-1 div.sk-parallel-item::after {content: \"\";width: 100%;border-bottom: 1px solid gray;flex-grow: 1;}#sk-container-id-1 div.sk-label:hover label.sk-toggleable__label {background-color: #d4ebff;}#sk-container-id-1 div.sk-serial::before {content: \"\";position: absolute;border-left: 1px solid gray;box-sizing: border-box;top: 0;bottom: 0;left: 50%;z-index: 0;}#sk-container-id-1 div.sk-serial {display: flex;flex-direction: column;align-items: center;background-color: white;padding-right: 0.2em;padding-left: 0.2em;position: relative;}#sk-container-id-1 div.sk-item {position: relative;z-index: 1;}#sk-container-id-1 div.sk-parallel {display: flex;align-items: stretch;justify-content: center;background-color: white;position: relative;}#sk-container-id-1 div.sk-item::before, #sk-container-id-1 div.sk-parallel-item::before {content: \"\";position: absolute;border-left: 1px solid gray;box-sizing: border-box;top: 0;bottom: 0;left: 50%;z-index: -1;}#sk-container-id-1 div.sk-parallel-item {display: flex;flex-direction: column;z-index: 1;position: relative;background-color: white;}#sk-container-id-1 div.sk-parallel-item:first-child::after {align-self: flex-end;width: 50%;}#sk-container-id-1 div.sk-parallel-item:last-child::after {align-self: flex-start;width: 50%;}#sk-container-id-1 div.sk-parallel-item:only-child::after {width: 0;}#sk-container-id-1 div.sk-dashed-wrapped {border: 1px dashed gray;margin: 0 0.4em 0.5em 0.4em;box-sizing: border-box;padding-bottom: 0.4em;background-color: white;}#sk-container-id-1 div.sk-label label {font-family: monospace;font-weight: bold;display: inline-block;line-height: 1.2em;}#sk-container-id-1 div.sk-label-container {text-align: center;}#sk-container-id-1 div.sk-container {/* jupyter's `normalize.less` sets `[hidden] { display: none; }` but bootstrap.min.css set `[hidden] { display: none !important; }` so we also need the `!important` here to be able to override the default hidden behavior on the sphinx rendered scikit-learn.org. See: https://github.com/scikit-learn/scikit-learn/issues/21755 */display: inline-block !important;position: relative;}#sk-container-id-1 div.sk-text-repr-fallback {display: none;}</style><div id=\"sk-container-id-1\" class=\"sk-top-container\"><div class=\"sk-text-repr-fallback\"><pre>RandomForestClassifier()</pre><b>In a Jupyter environment, please rerun this cell to show the HTML representation or trust the notebook. <br />On GitHub, the HTML representation is unable to render, please try loading this page with nbviewer.org.</b></div><div class=\"sk-container\" hidden><div class=\"sk-item\"><div class=\"sk-estimator sk-toggleable\"><input class=\"sk-toggleable__control sk-hidden--visually\" id=\"sk-estimator-id-1\" type=\"checkbox\" checked><label for=\"sk-estimator-id-1\" class=\"sk-toggleable__label sk-toggleable__label-arrow\">RandomForestClassifier</label><div class=\"sk-toggleable__content\"><pre>RandomForestClassifier()</pre></div></div></div></div></div>"
            ]
          },
          "metadata": {},
          "execution_count": 28
        }
      ],
      "source": [
        "# Train the Random Forest using Train Set of CIFAR-10 Dataset\n",
        "clf.fit(featureMatrix, np.ravel(labelVector))"
      ]
    },
    {
      "cell_type": "code",
      "execution_count": null,
      "metadata": {
        "collapsed": true,
        "id": "2E2YfHvll0fT"
      },
      "outputs": [],
      "source": [
        "# Test with Random Forest for Test Set of CIFAR-10 Dataset\n",
        "labelVectorPredicted = clf.predict(featureMatrixTest)"
      ]
    },
    {
      "cell_type": "code",
      "source": [],
      "metadata": {
        "id": "hDz5eMV-5m2R"
      },
      "execution_count": null,
      "outputs": []
    },
    {
      "cell_type": "markdown",
      "metadata": {
        "id": "raNJgnN_l0fT"
      },
      "source": [
        "##### Glimpse of Classifcation Results"
      ]
    },
    {
      "cell_type": "code",
      "execution_count": null,
      "metadata": {
        "id": "Qrkt_QYjl0fT",
        "outputId": "73401496-38cd-4061-ddca-e5a59ecba420",
        "colab": {
          "base_uri": "https://localhost:8080/"
        }
      },
      "outputs": [
        {
          "output_type": "stream",
          "name": "stdout",
          "text": [
            "cat cat\n",
            "ship ship\n",
            "ship truck\n",
            "plane ship\n",
            "frog deer\n",
            "frog frog\n",
            "car bird\n",
            "frog frog\n",
            "cat dog\n",
            "car car\n"
          ]
        }
      ],
      "source": [
        "labelVectorTest = np.ravel(labelVectorTest)\n",
        "className = list(classes)\n",
        "for i in range(10):\n",
        "    print(className[labelVectorTest[i]], className[labelVectorPredicted[i]])"
      ]
    },
    {
      "cell_type": "markdown",
      "metadata": {
        "id": "j9br-CKjl0fU"
      },
      "source": [
        "##### Classification Performance over Whole Test Dataset"
      ]
    },
    {
      "cell_type": "code",
      "execution_count": null,
      "metadata": {
        "id": "zh02CBLTl0fU",
        "outputId": "7f47b435-7f83-42d4-9b1f-192cec29b0e6",
        "colab": {
          "base_uri": "https://localhost:8080/"
        }
      },
      "outputs": [
        {
          "output_type": "stream",
          "name": "stdout",
          "text": [
            "Accuracy of the network on the 10000 test images: 52 %\n"
          ]
        }
      ],
      "source": [
        "correct = (labelVectorPredicted == labelVectorTest).sum()\n",
        "print('Accuracy of the network on the 10000 test images: %d %%' % (\n",
        "    100 * correct / labelVectorTest.shape[0]))"
      ]
    },
    {
      "cell_type": "code",
      "execution_count": null,
      "metadata": {
        "id": "jFFVlpjol0fU",
        "outputId": "eefa1c01-2a24-43df-ad1a-f3138e2604b4",
        "colab": {
          "base_uri": "https://localhost:8080/"
        }
      },
      "outputs": [
        {
          "output_type": "stream",
          "name": "stdout",
          "text": [
            "Accuracy of plane : 55 %\n",
            "Accuracy of   car : 66 %\n",
            "Accuracy of  bird : 38 %\n",
            "Accuracy of   cat : 34 %\n",
            "Accuracy of  deer : 38 %\n",
            "Accuracy of   dog : 46 %\n",
            "Accuracy of  frog : 63 %\n",
            "Accuracy of horse : 58 %\n",
            "Accuracy of  ship : 66 %\n",
            "Accuracy of truck : 59 %\n"
          ]
        }
      ],
      "source": [
        "class_correct = list(0. for i in range(10))\n",
        "class_total = list(0. for i in range(10))\n",
        "c = (labelVectorPredicted == labelVectorTest).squeeze()\n",
        "for i in range(labelVectorTest.shape[0]):\n",
        "    label = labelVectorTest[i]\n",
        "    class_correct[label] += c[i]\n",
        "    class_total[label] += 1\n",
        "\n",
        "for i in range(10):\n",
        "    print('Accuracy of %5s : %2d %%' % (\n",
        "        classes[i], 100 * class_correct[i] / class_total[i]))"
      ]
    },
    {
      "cell_type": "markdown",
      "metadata": {
        "id": "34Dextmfl0fV"
      },
      "source": [
        "#### Determining Feature Importance using Random Forest"
      ]
    },
    {
      "cell_type": "code",
      "execution_count": null,
      "metadata": {
        "id": "QD1j7gyJl0fV",
        "outputId": "46cc48e6-a986-49b8-f3c5-499dfc4804d3",
        "colab": {
          "base_uri": "https://localhost:8080/"
        }
      },
      "outputs": [
        {
          "output_type": "stream",
          "name": "stdout",
          "text": [
            "[8.80646540e-03 1.01741513e-02 1.39491747e-02 1.21431665e-02\n",
            " 6.54340314e-03 2.69295190e-02 8.65370527e-03 2.45159903e-02\n",
            " 1.62292973e-02 8.54229123e-03 1.50629426e-02 2.11731373e-05\n",
            " 9.10058280e-03 1.06305562e-02 1.49922583e-02 1.68151237e-02\n",
            " 1.69227376e-02 1.17964209e-02 1.55607082e-02 1.68106766e-02\n",
            " 1.39275759e-02 8.87845590e-03 1.88291637e-02 1.87418557e-02\n",
            " 1.55131478e-02 1.24929830e-02 1.70964313e-02 1.28115931e-02\n",
            " 2.33198984e-03 1.21785757e-02 1.50828490e-02 6.06294855e-03\n",
            " 1.95728700e-03 1.45418179e-02 1.54158583e-02 1.77757086e-02\n",
            " 1.72125681e-02 1.25364835e-03 1.41562805e-02 1.28304968e-02\n",
            " 9.60903703e-03 7.06145057e-03 1.15309999e-02 3.12276401e-03\n",
            " 6.74784054e-03 9.19970748e-03 7.93124445e-03 1.04605691e-02\n",
            " 1.99347552e-02 7.17972728e-03 2.00667582e-02 2.66802097e-03\n",
            " 2.00150224e-02 7.95810870e-03 1.14769400e-02 1.03032765e-02\n",
            " 1.07646964e-02 6.83608301e-03 4.81240942e-03 4.08727139e-03\n",
            " 1.28126978e-02 7.25642072e-03 7.62960168e-03 4.97824957e-03\n",
            " 8.14872529e-03 1.65259187e-02 1.04007233e-02 1.50034137e-02\n",
            " 2.42913306e-02 1.49772514e-02 9.16510194e-03 1.90548996e-02\n",
            " 1.85368037e-02 8.00491418e-03 1.81476603e-02 1.32761220e-02\n",
            " 7.52965912e-04 1.02263113e-02 8.30705848e-04 1.32263452e-02\n",
            " 3.73464125e-04 1.96758970e-02 2.29797132e-02 1.86665013e-02]\n"
          ]
        }
      ],
      "source": [
        "print(clf.feature_importances_)\n",
        "\n",
        "# Saving the trained model\n",
        "joblib.dump(clf, 'fc1_forest1.pkl')\n",
        "\n",
        "# Loading the trained model\n",
        "ctl = joblib.load('fc1_forest1.pkl')"
      ]
    },
    {
      "cell_type": "markdown",
      "metadata": {
        "id": "CGQXoeeul0fV"
      },
      "source": [
        "<h2 align=\"left\">References</h2>\n",
        "<p style=\"font-size:17px\">\n",
        "a) http://pytorch.org//<br>\n",
        "b) http://scikit-learn.org/stable/<br>\n",
        "c) Ho, Tin Kam. \"Random decision forests.\" In Document analysis and recognition, 1995., proceedings of the third international conference on, vol. 1, pp. 278-282. IEEE, 1995.<br>\n",
        "d) Krizhevsky, Alex, Ilya Sutskever, and Geoffrey E. Hinton. \"Imagenet classification with deep convolutional neural networks.\" In Advances in neural information processing systems, pp. 1097-1105. 2012.\n",
        "</p>"
      ]
    }
  ],
  "metadata": {
    "kernelspec": {
      "display_name": "Python 3",
      "name": "python3"
    },
    "language_info": {
      "name": "python"
    },
    "colab": {
      "provenance": [],
      "gpuType": "T4"
    },
    "accelerator": "GPU"
  },
  "nbformat": 4,
  "nbformat_minor": 0
}